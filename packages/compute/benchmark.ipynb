{
 "cells": [
  {
   "cell_type": "code",
   "execution_count": 1,
   "metadata": {},
   "outputs": [
    {
     "ename": "ReferenceError",
     "evalue": "require is not defined",
     "output_type": "error",
     "traceback": [
      "Stack trace:",
      "ReferenceError: require is not defined",
      "    at file:///home/i0x0/storage/code/untitledRadarAppStack/packages/compute-rs/index.ts:2:14"
     ]
    }
   ],
   "source": [
    "// deno shit\n",
    "import \"jsr:@std/dotenv/load\";\n",
    "\n",
    "import { getRecommendations, User } from 'compute';\n",
    "import { SpotifyApi } from '@spotify/web-api-ts-sdk';\n",
    "//import { run, bench, boxplot } from 'mitata'\n",
    "//import { findTopMatches as findTopMatchesR } from 'compute-rs';\n",
    "\n",
    "\n",
    "const api = SpotifyApi.withClientCredentials(\n",
    "  Deno.env.get(\"SPOTIFY_CLIENT_ID\"),\n",
    "  Deno.env.get(\"SPOTIFY_CLIENT_SECRET\")\n",
    ");\n",
    "\n",
    "//console.log(Deno.env.get(\"SPOTIFY_CLIENT_ID\"))"
   ]
  },
  {
   "cell_type": "code",
   "execution_count": 2,
   "metadata": {},
   "outputs": [],
   "source": [
    "const Playlist: Record<string, string> = {\n",
    "  MAIN: \"7zFKB8u7PSGAj9FASenxvs\",\n",
    "  USER_1: \"3MPFi7k4ljTfy7deKU1XsO\",\n",
    "  USER_2: \"6KfGH3B2NZzpOKNrYA7OqM\",\n",
    "  USER_3: \"3pUYsjspJnl8kNceEevLNj\",\n",
    "  USER_4: \"2yH1bWL9GrIhlsBL7UBQUA\",\n",
    "  USER_5: \"6DZFHxnFlgYtojHMaXIcjk\"\n",
    "}\n",
    "\n",
    "const n = () => {\n",
    "  return {\n",
    "    id: \"\",\n",
    "    songs: []\n",
    "  }\n",
    "}\n",
    "\n",
    "let users: Record<string, User> = {\n",
    "  MAIN: n(),\n",
    "  USER_1: n(),\n",
    "  USER_2: n(),\n",
    "  USER_3: n(),\n",
    "  USER_4: n(),\n",
    "  USER_5: n()\n",
    "}"
   ]
  },
  {
   "cell_type": "code",
   "execution_count": 3,
   "metadata": {},
   "outputs": [
    {
     "name": "stdout",
     "output_type": "stream",
     "text": [
      "MAIN 7zFKB8u7PSGAj9FASenxvs\n",
      "USER_1 3MPFi7k4ljTfy7deKU1XsO\n",
      "USER_2 6KfGH3B2NZzpOKNrYA7OqM\n",
      "USER_3 3pUYsjspJnl8kNceEevLNj\n",
      "USER_4 2yH1bWL9GrIhlsBL7UBQUA\n",
      "USER_5 6DZFHxnFlgYtojHMaXIcjk\n"
     ]
    },
    {
     "data": {
      "text/plain": [
       "{\n",
       "  danceability: \u001b[33m0.707\u001b[39m,\n",
       "  energy: \u001b[33m0.74\u001b[39m,\n",
       "  acousticness: \u001b[33m0.179\u001b[39m,\n",
       "  valence: \u001b[33m0.336\u001b[39m,\n",
       "  id: \u001b[32m\"0LatE4S9UtCDwIdGQsFFKL\"\u001b[39m\n",
       "}"
      ]
     },
     "execution_count": 3,
     "metadata": {},
     "output_type": "execute_result"
    }
   ],
   "source": [
    "for (const key in Playlist) {\n",
    "  let id = Playlist[key] as string\n",
    "  console.log(key, id)\n",
    "  let list = await api.playlists.getPlaylist(id)\n",
    "  //console.log(list)\n",
    "  users[key]!.id = list.id\n",
    "  for (const song in list.tracks.items) {\n",
    "    let { danceability, energy, acousticness, valence } = await api.tracks.audioFeatures(list.tracks.items[song].track.id)\n",
    "    users[key].songs[song] = {\n",
    "      danceability,\n",
    "      energy,\n",
    "      acousticness,\n",
    "      valence,\n",
    "      id: list.tracks.items[song].track.id,\n",
    "      //origin: id\n",
    "    }\n",
    "    //console.log(list.tracks.items[song])\n",
    "  }\n",
    "}"
   ]
  },
  {
   "cell_type": "code",
   "execution_count": 4,
   "metadata": {},
   "outputs": [
    {
     "data": {
      "text/plain": [
       "[\n",
       "  {\n",
       "    danceability: \u001b[33m0.742\u001b[39m,\n",
       "    energy: \u001b[33m0.595\u001b[39m,\n",
       "    acousticness: \u001b[33m0.15\u001b[39m,\n",
       "    valence: \u001b[33m0.431\u001b[39m,\n",
       "    id: \u001b[32m\"3jVtllWS5CFFWLQng8sKsr\"\u001b[39m,\n",
       "    userId: \u001b[32m\"6KfGH3B2NZzpOKNrYA7OqM\"\u001b[39m,\n",
       "    similarityScore: \u001b[33m1.0157485848451135\u001b[39m\n",
       "  },\n",
       "  {\n",
       "    danceability: \u001b[33m0.672\u001b[39m,\n",
       "    energy: \u001b[33m0.52\u001b[39m,\n",
       "    acousticness: \u001b[33m0.0985\u001b[39m,\n",
       "    valence: \u001b[33m0.551\u001b[39m,\n",
       "    id: \u001b[32m\"18sytW2s53Of6NVudQyUlH\"\u001b[39m,\n",
       "    userId: \u001b[32m\"3MPFi7k4ljTfy7deKU1XsO\"\u001b[39m,\n",
       "    similarityScore: \u001b[33m1.0136631398550493\u001b[39m\n",
       "  },\n",
       "  {\n",
       "    danceability: \u001b[33m0.733\u001b[39m,\n",
       "    energy: \u001b[33m0.395\u001b[39m,\n",
       "    acousticness: \u001b[33m0.279\u001b[39m,\n",
       "    valence: \u001b[33m0.661\u001b[39m,\n",
       "    id: \u001b[32m\"2zbjlcLi1VQWqDNYdhyx1l\"\u001b[39m,\n",
       "    userId: \u001b[32m\"3MPFi7k4ljTfy7deKU1XsO\"\u001b[39m,\n",
       "    similarityScore: \u001b[33m0.9492035992046325\u001b[39m\n",
       "  },\n",
       "  {\n",
       "    danceability: \u001b[33m0.48\u001b[39m,\n",
       "    energy: \u001b[33m0.544\u001b[39m,\n",
       "    acousticness: \u001b[33m0.219\u001b[39m,\n",
       "    valence: \u001b[33m0.214\u001b[39m,\n",
       "    id: \u001b[32m\"1sBKqogwlK7aknmIiK1Z5q\"\u001b[39m,\n",
       "    userId: \u001b[32m\"6KfGH3B2NZzpOKNrYA7OqM\"\u001b[39m,\n",
       "    similarityScore: \u001b[33m0.9293375654580561\u001b[39m\n",
       "  },\n",
       "  {\n",
       "    danceability: \u001b[33m0.589\u001b[39m,\n",
       "    energy: \u001b[33m0.532\u001b[39m,\n",
       "    acousticness: \u001b[33m0.155\u001b[39m,\n",
       "    valence: \u001b[33m0.434\u001b[39m,\n",
       "    id: \u001b[32m\"2hMk3VNicbCoV8I81m7Z3q\"\u001b[39m,\n",
       "    userId: \u001b[32m\"3MPFi7k4ljTfy7deKU1XsO\"\u001b[39m,\n",
       "    similarityScore: \u001b[33m0.9237792014846525\u001b[39m\n",
       "  }\n",
       "]"
      ]
     },
     "execution_count": 4,
     "metadata": {},
     "output_type": "execute_result"
    }
   ],
   "source": [
    "getRecommendations(users.MAIN, [users.USER_1, users.USER_2, users.USER_3], 5)"
   ]
  },
  {
   "cell_type": "code",
   "execution_count": 8,
   "metadata": {},
   "outputs": [
    {
     "data": {
      "text/plain": [
       "[\n",
       "  {\n",
       "    danceability: \u001b[33m0.707\u001b[39m,\n",
       "    energy: \u001b[33m0.74\u001b[39m,\n",
       "    acousticness: \u001b[33m0.179\u001b[39m,\n",
       "    valence: \u001b[33m0.336\u001b[39m,\n",
       "    id: \u001b[32m\"0LatE4S9UtCDwIdGQsFFKL\"\u001b[39m,\n",
       "    userId: \u001b[32m\"6DZFHxnFlgYtojHMaXIcjk\"\u001b[39m,\n",
       "    similarityScore: \u001b[33m0.9663103781544555\u001b[39m\n",
       "  },\n",
       "  {\n",
       "    danceability: \u001b[33m0.626\u001b[39m,\n",
       "    energy: \u001b[33m0.542\u001b[39m,\n",
       "    acousticness: \u001b[33m0.0906\u001b[39m,\n",
       "    valence: \u001b[33m0.376\u001b[39m,\n",
       "    id: \u001b[32m\"20VRVHMwAspwLA207PdKOn\"\u001b[39m,\n",
       "    userId: \u001b[32m\"3MPFi7k4ljTfy7deKU1XsO\"\u001b[39m,\n",
       "    similarityScore: \u001b[33m0.9499589520482468\u001b[39m\n",
       "  },\n",
       "  {\n",
       "    danceability: \u001b[33m0.648\u001b[39m,\n",
       "    energy: \u001b[33m0.68\u001b[39m,\n",
       "    acousticness: \u001b[33m0.292\u001b[39m,\n",
       "    valence: \u001b[33m0.504\u001b[39m,\n",
       "    id: \u001b[32m\"67XC51nlZncNpHmZ8rOU9a\"\u001b[39m,\n",
       "    userId: \u001b[32m\"6KfGH3B2NZzpOKNrYA7OqM\"\u001b[39m,\n",
       "    similarityScore: \u001b[33m0.9458927428169182\u001b[39m\n",
       "  },\n",
       "  {\n",
       "    danceability: \u001b[33m0.546\u001b[39m,\n",
       "    energy: \u001b[33m0.649\u001b[39m,\n",
       "    acousticness: \u001b[33m0.143\u001b[39m,\n",
       "    valence: \u001b[33m0.298\u001b[39m,\n",
       "    id: \u001b[32m\"3lBRNqXjPp2j3JMTCXDTNO\"\u001b[39m,\n",
       "    userId: \u001b[32m\"6KfGH3B2NZzpOKNrYA7OqM\"\u001b[39m,\n",
       "    similarityScore: \u001b[33m0.9385940532501655\u001b[39m\n",
       "  },\n",
       "  {\n",
       "    danceability: \u001b[33m0.581\u001b[39m,\n",
       "    energy: \u001b[33m0.78\u001b[39m,\n",
       "    acousticness: \u001b[33m0.508\u001b[39m,\n",
       "    valence: \u001b[33m0.561\u001b[39m,\n",
       "    id: \u001b[32m\"0bfvHnWWOeU1U5XeKyVLbW\"\u001b[39m,\n",
       "    userId: \u001b[32m\"2yH1bWL9GrIhlsBL7UBQUA\"\u001b[39m,\n",
       "    similarityScore: \u001b[33m0.9314045991327313\u001b[39m\n",
       "  },\n",
       "  {\n",
       "    danceability: \u001b[33m0.581\u001b[39m,\n",
       "    energy: \u001b[33m0.8\u001b[39m,\n",
       "    acousticness: \u001b[33m0.154\u001b[39m,\n",
       "    valence: \u001b[33m0.709\u001b[39m,\n",
       "    id: \u001b[32m\"63irPUP3xB74fHdw1Aw9zR\"\u001b[39m,\n",
       "    userId: \u001b[32m\"6DZFHxnFlgYtojHMaXIcjk\"\u001b[39m,\n",
       "    similarityScore: \u001b[33m0.9220950541290712\u001b[39m\n",
       "  },\n",
       "  {\n",
       "    danceability: \u001b[33m0.545\u001b[39m,\n",
       "    energy: \u001b[33m0.545\u001b[39m,\n",
       "    acousticness: \u001b[33m0.667\u001b[39m,\n",
       "    valence: \u001b[33m0.549\u001b[39m,\n",
       "    id: \u001b[32m\"3xKsf9qdS1CyvXSMEid6g8\"\u001b[39m,\n",
       "    userId: \u001b[32m\"3pUYsjspJnl8kNceEevLNj\"\u001b[39m,\n",
       "    similarityScore: \u001b[33m0.9197704180757506\u001b[39m\n",
       "  },\n",
       "  {\n",
       "    danceability: \u001b[33m0.741\u001b[39m,\n",
       "    energy: \u001b[33m0.508\u001b[39m,\n",
       "    acousticness: \u001b[33m0.0347\u001b[39m,\n",
       "    valence: \u001b[33m0.354\u001b[39m,\n",
       "    id: \u001b[32m\"6gdhHMWUv1pvkOHqCUGvCp\"\u001b[39m,\n",
       "    userId: \u001b[32m\"3MPFi7k4ljTfy7deKU1XsO\"\u001b[39m,\n",
       "    similarityScore: \u001b[33m0.9190333183760123\u001b[39m\n",
       "  },\n",
       "  {\n",
       "    danceability: \u001b[33m0.48\u001b[39m,\n",
       "    energy: \u001b[33m0.544\u001b[39m,\n",
       "    acousticness: \u001b[33m0.219\u001b[39m,\n",
       "    valence: \u001b[33m0.214\u001b[39m,\n",
       "    id: \u001b[32m\"1sBKqogwlK7aknmIiK1Z5q\"\u001b[39m,\n",
       "    userId: \u001b[32m\"6KfGH3B2NZzpOKNrYA7OqM\"\u001b[39m,\n",
       "    similarityScore: \u001b[33m0.9148012945120109\u001b[39m\n",
       "  },\n",
       "  {\n",
       "    danceability: \u001b[33m0.658\u001b[39m,\n",
       "    energy: \u001b[33m0.572\u001b[39m,\n",
       "    acousticness: \u001b[33m0.0811\u001b[39m,\n",
       "    valence: \u001b[33m0.144\u001b[39m,\n",
       "    id: \u001b[32m\"2p8IUWQDrpjuFltbdgLOag\"\u001b[39m,\n",
       "    userId: \u001b[32m\"3pUYsjspJnl8kNceEevLNj\"\u001b[39m,\n",
       "    similarityScore: \u001b[33m0.9126424850169675\u001b[39m\n",
       "  }\n",
       "]"
      ]
     },
     "execution_count": 8,
     "metadata": {},
     "output_type": "execute_result"
    }
   ],
   "source": [
    "getRecommendations(users.MAIN, [users.USER_1, users.USER_2, users.USER_3, users.USER_4, users.USER_5], 10)"
   ]
  }
 ],
 "metadata": {
  "kernelspec": {
   "display_name": "Deno",
   "language": "typescript",
   "name": "deno"
  },
  "language_info": {
   "codemirror_mode": "typescript",
   "file_extension": ".ts",
   "mimetype": "text/x.typescript",
   "name": "typescript",
   "nbconvert_exporter": "script",
   "pygments_lexer": "typescript",
   "version": "5.6.2"
  }
 },
 "nbformat": 4,
 "nbformat_minor": 2
}
